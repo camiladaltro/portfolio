{
  "nbformat": 4,
  "nbformat_minor": 0,
  "metadata": {
    "colab": {
      "name": "salarios_data_science.ipynb",
      "provenance": [],
      "collapsed_sections": [],
      "mount_file_id": "1tICDy5Snviz0017lMahf5wXpZTSrd6ke",
      "authorship_tag": "ABX9TyMugkklTOp0BQHXu9WpkiXH",
      "include_colab_link": true
    },
    "kernelspec": {
      "name": "python3",
      "display_name": "Python 3"
    },
    "language_info": {
      "name": "python"
    }
  },
  "cells": [
    {
      "cell_type": "markdown",
      "metadata": {
        "id": "view-in-github",
        "colab_type": "text"
      },
      "source": [
        "<a href=\"https://colab.research.google.com/github/camiladaltro/portfolio/blob/main/salarios_data_science.ipynb\" target=\"_parent\"><img src=\"https://colab.research.google.com/assets/colab-badge.svg\" alt=\"Open In Colab\"/></a>"
      ]
    },
    {
      "cell_type": "markdown",
      "source": [
        "# Objetivo\n",
        "Analisar todos os aspectos da tabela e ter uma visão sobre o mercado de trabalho na área de Ciência de Dados pelo mundo."
      ],
      "metadata": {
        "id": "P--X45OV5pec"
      }
    },
    {
      "cell_type": "markdown",
      "source": [
        "# 1) Importar as bibliotecas"
      ],
      "metadata": {
        "id": "sEvVr8D8xriA"
      }
    },
    {
      "cell_type": "code",
      "source": [
        "import pandas as pd\n",
        "import numpy as np\n",
        "import matplotlib.pyplot as plt\n",
        "import seaborn as sns"
      ],
      "metadata": {
        "id": "KxGGBSgQwUXC"
      },
      "execution_count": 1,
      "outputs": []
    },
    {
      "cell_type": "markdown",
      "source": [
        "# 2) Carregar os dados"
      ],
      "metadata": {
        "id": "LaGKyXo_x7cR"
      }
    },
    {
      "cell_type": "code",
      "source": [
        "df = pd.read_csv('/content/drive/MyDrive/ds_salaries.csv')"
      ],
      "metadata": {
        "id": "djqWZgfBpFJy"
      },
      "execution_count": 2,
      "outputs": []
    },
    {
      "cell_type": "markdown",
      "source": [
        "# Dicionário de variáveis\n",
        "1. work_year = ano no qual o salário foi pago\n",
        "2. experience_level = nível de experiência durante o ano trabalhado\n",
        "3. employment_type =  o tipo de empregamento (ex. full time = tempo integral)\n",
        "4. job_title: o cargo trabalhado no ano.\n",
        "5. salary: o valor total do salário bruto pago.\n",
        "6. salary_currency: a moeda do salário pago \n",
        "7. salary_in_usd: o salário em USD (dólar americano)\n",
        "8. employee_residence: o país onde residiu o funcionário durante o ano.\n",
        "9. remote_ratio: a quantidade total de trabalho feito remotamente.\n",
        "10. company_location: o país da sede ou filial contratante do empregador.\n",
        "11. company_size: o número médio de pessoas que trabalharam para a empresa durante o ano "
      ],
      "metadata": {
        "id": "_NDkTy8H7hCA"
      }
    },
    {
      "cell_type": "code",
      "source": [
        "df.head(3)"
      ],
      "metadata": {
        "colab": {
          "base_uri": "https://localhost:8080/",
          "height": 294
        },
        "id": "9WsBN79ywY1d",
        "outputId": "120d6fea-97d2-4cc1-ddcd-6569b1793407"
      },
      "execution_count": 3,
      "outputs": [
        {
          "output_type": "execute_result",
          "data": {
            "text/plain": [
              "   Unnamed: 0  work_year experience_level employment_type  \\\n",
              "0           0       2020               MI              FT   \n",
              "1           1       2020               SE              FT   \n",
              "2           2       2020               SE              FT   \n",
              "\n",
              "                    job_title  salary salary_currency  salary_in_usd  \\\n",
              "0              Data Scientist   70000             EUR          79833   \n",
              "1  Machine Learning Scientist  260000             USD         260000   \n",
              "2           Big Data Engineer   85000             GBP         109024   \n",
              "\n",
              "  employee_residence  remote_ratio company_location company_size  \n",
              "0                 DE             0               DE            L  \n",
              "1                 JP             0               JP            S  \n",
              "2                 GB            50               GB            M  "
            ],
            "text/html": [
              "\n",
              "  <div id=\"df-d1f7ee44-ae1d-4b7b-9607-007dd9affe93\">\n",
              "    <div class=\"colab-df-container\">\n",
              "      <div>\n",
              "<style scoped>\n",
              "    .dataframe tbody tr th:only-of-type {\n",
              "        vertical-align: middle;\n",
              "    }\n",
              "\n",
              "    .dataframe tbody tr th {\n",
              "        vertical-align: top;\n",
              "    }\n",
              "\n",
              "    .dataframe thead th {\n",
              "        text-align: right;\n",
              "    }\n",
              "</style>\n",
              "<table border=\"1\" class=\"dataframe\">\n",
              "  <thead>\n",
              "    <tr style=\"text-align: right;\">\n",
              "      <th></th>\n",
              "      <th>Unnamed: 0</th>\n",
              "      <th>work_year</th>\n",
              "      <th>experience_level</th>\n",
              "      <th>employment_type</th>\n",
              "      <th>job_title</th>\n",
              "      <th>salary</th>\n",
              "      <th>salary_currency</th>\n",
              "      <th>salary_in_usd</th>\n",
              "      <th>employee_residence</th>\n",
              "      <th>remote_ratio</th>\n",
              "      <th>company_location</th>\n",
              "      <th>company_size</th>\n",
              "    </tr>\n",
              "  </thead>\n",
              "  <tbody>\n",
              "    <tr>\n",
              "      <th>0</th>\n",
              "      <td>0</td>\n",
              "      <td>2020</td>\n",
              "      <td>MI</td>\n",
              "      <td>FT</td>\n",
              "      <td>Data Scientist</td>\n",
              "      <td>70000</td>\n",
              "      <td>EUR</td>\n",
              "      <td>79833</td>\n",
              "      <td>DE</td>\n",
              "      <td>0</td>\n",
              "      <td>DE</td>\n",
              "      <td>L</td>\n",
              "    </tr>\n",
              "    <tr>\n",
              "      <th>1</th>\n",
              "      <td>1</td>\n",
              "      <td>2020</td>\n",
              "      <td>SE</td>\n",
              "      <td>FT</td>\n",
              "      <td>Machine Learning Scientist</td>\n",
              "      <td>260000</td>\n",
              "      <td>USD</td>\n",
              "      <td>260000</td>\n",
              "      <td>JP</td>\n",
              "      <td>0</td>\n",
              "      <td>JP</td>\n",
              "      <td>S</td>\n",
              "    </tr>\n",
              "    <tr>\n",
              "      <th>2</th>\n",
              "      <td>2</td>\n",
              "      <td>2020</td>\n",
              "      <td>SE</td>\n",
              "      <td>FT</td>\n",
              "      <td>Big Data Engineer</td>\n",
              "      <td>85000</td>\n",
              "      <td>GBP</td>\n",
              "      <td>109024</td>\n",
              "      <td>GB</td>\n",
              "      <td>50</td>\n",
              "      <td>GB</td>\n",
              "      <td>M</td>\n",
              "    </tr>\n",
              "  </tbody>\n",
              "</table>\n",
              "</div>\n",
              "      <button class=\"colab-df-convert\" onclick=\"convertToInteractive('df-d1f7ee44-ae1d-4b7b-9607-007dd9affe93')\"\n",
              "              title=\"Convert this dataframe to an interactive table.\"\n",
              "              style=\"display:none;\">\n",
              "        \n",
              "  <svg xmlns=\"http://www.w3.org/2000/svg\" height=\"24px\"viewBox=\"0 0 24 24\"\n",
              "       width=\"24px\">\n",
              "    <path d=\"M0 0h24v24H0V0z\" fill=\"none\"/>\n",
              "    <path d=\"M18.56 5.44l.94 2.06.94-2.06 2.06-.94-2.06-.94-.94-2.06-.94 2.06-2.06.94zm-11 1L8.5 8.5l.94-2.06 2.06-.94-2.06-.94L8.5 2.5l-.94 2.06-2.06.94zm10 10l.94 2.06.94-2.06 2.06-.94-2.06-.94-.94-2.06-.94 2.06-2.06.94z\"/><path d=\"M17.41 7.96l-1.37-1.37c-.4-.4-.92-.59-1.43-.59-.52 0-1.04.2-1.43.59L10.3 9.45l-7.72 7.72c-.78.78-.78 2.05 0 2.83L4 21.41c.39.39.9.59 1.41.59.51 0 1.02-.2 1.41-.59l7.78-7.78 2.81-2.81c.8-.78.8-2.07 0-2.86zM5.41 20L4 18.59l7.72-7.72 1.47 1.35L5.41 20z\"/>\n",
              "  </svg>\n",
              "      </button>\n",
              "      \n",
              "  <style>\n",
              "    .colab-df-container {\n",
              "      display:flex;\n",
              "      flex-wrap:wrap;\n",
              "      gap: 12px;\n",
              "    }\n",
              "\n",
              "    .colab-df-convert {\n",
              "      background-color: #E8F0FE;\n",
              "      border: none;\n",
              "      border-radius: 50%;\n",
              "      cursor: pointer;\n",
              "      display: none;\n",
              "      fill: #1967D2;\n",
              "      height: 32px;\n",
              "      padding: 0 0 0 0;\n",
              "      width: 32px;\n",
              "    }\n",
              "\n",
              "    .colab-df-convert:hover {\n",
              "      background-color: #E2EBFA;\n",
              "      box-shadow: 0px 1px 2px rgba(60, 64, 67, 0.3), 0px 1px 3px 1px rgba(60, 64, 67, 0.15);\n",
              "      fill: #174EA6;\n",
              "    }\n",
              "\n",
              "    [theme=dark] .colab-df-convert {\n",
              "      background-color: #3B4455;\n",
              "      fill: #D2E3FC;\n",
              "    }\n",
              "\n",
              "    [theme=dark] .colab-df-convert:hover {\n",
              "      background-color: #434B5C;\n",
              "      box-shadow: 0px 1px 3px 1px rgba(0, 0, 0, 0.15);\n",
              "      filter: drop-shadow(0px 1px 2px rgba(0, 0, 0, 0.3));\n",
              "      fill: #FFFFFF;\n",
              "    }\n",
              "  </style>\n",
              "\n",
              "      <script>\n",
              "        const buttonEl =\n",
              "          document.querySelector('#df-d1f7ee44-ae1d-4b7b-9607-007dd9affe93 button.colab-df-convert');\n",
              "        buttonEl.style.display =\n",
              "          google.colab.kernel.accessAllowed ? 'block' : 'none';\n",
              "\n",
              "        async function convertToInteractive(key) {\n",
              "          const element = document.querySelector('#df-d1f7ee44-ae1d-4b7b-9607-007dd9affe93');\n",
              "          const dataTable =\n",
              "            await google.colab.kernel.invokeFunction('convertToInteractive',\n",
              "                                                     [key], {});\n",
              "          if (!dataTable) return;\n",
              "\n",
              "          const docLinkHtml = 'Like what you see? Visit the ' +\n",
              "            '<a target=\"_blank\" href=https://colab.research.google.com/notebooks/data_table.ipynb>data table notebook</a>'\n",
              "            + ' to learn more about interactive tables.';\n",
              "          element.innerHTML = '';\n",
              "          dataTable['output_type'] = 'display_data';\n",
              "          await google.colab.output.renderOutput(dataTable, element);\n",
              "          const docLink = document.createElement('div');\n",
              "          docLink.innerHTML = docLinkHtml;\n",
              "          element.appendChild(docLink);\n",
              "        }\n",
              "      </script>\n",
              "    </div>\n",
              "  </div>\n",
              "  "
            ]
          },
          "metadata": {},
          "execution_count": 3
        }
      ]
    },
    {
      "cell_type": "markdown",
      "source": [
        "# 3) Remover colunas unnamed: 0, salary e salary_currency\n",
        "Como existem diferentes tipos de moeda nesta tabela, será utilizado apenas a sua conversão em USD (dólar americano) como moeda única"
      ],
      "metadata": {
        "id": "I9PSZSIExd1e"
      }
    },
    {
      "cell_type": "code",
      "source": [
        "df = df.drop(['Unnamed: 0', 'salary', 'salary_currency'], axis =1)"
      ],
      "metadata": {
        "id": "cQLifyzu4eU3"
      },
      "execution_count": 4,
      "outputs": []
    },
    {
      "cell_type": "code",
      "source": [
        "df.head()"
      ],
      "metadata": {
        "colab": {
          "base_uri": "https://localhost:8080/",
          "height": 250
        },
        "id": "1V8DXaPi5cMP",
        "outputId": "aeab86b8-0c3d-4b40-88e0-4f25739df9ae"
      },
      "execution_count": 5,
      "outputs": [
        {
          "output_type": "execute_result",
          "data": {
            "text/plain": [
              "   work_year experience_level employment_type                   job_title  \\\n",
              "0       2020               MI              FT              Data Scientist   \n",
              "1       2020               SE              FT  Machine Learning Scientist   \n",
              "2       2020               SE              FT           Big Data Engineer   \n",
              "3       2020               MI              FT        Product Data Analyst   \n",
              "4       2020               SE              FT   Machine Learning Engineer   \n",
              "\n",
              "   salary_in_usd employee_residence  remote_ratio company_location  \\\n",
              "0          79833                 DE             0               DE   \n",
              "1         260000                 JP             0               JP   \n",
              "2         109024                 GB            50               GB   \n",
              "3          20000                 HN             0               HN   \n",
              "4         150000                 US            50               US   \n",
              "\n",
              "  company_size  \n",
              "0            L  \n",
              "1            S  \n",
              "2            M  \n",
              "3            S  \n",
              "4            L  "
            ],
            "text/html": [
              "\n",
              "  <div id=\"df-0514f51c-69cf-4317-8392-b070bd9c7d51\">\n",
              "    <div class=\"colab-df-container\">\n",
              "      <div>\n",
              "<style scoped>\n",
              "    .dataframe tbody tr th:only-of-type {\n",
              "        vertical-align: middle;\n",
              "    }\n",
              "\n",
              "    .dataframe tbody tr th {\n",
              "        vertical-align: top;\n",
              "    }\n",
              "\n",
              "    .dataframe thead th {\n",
              "        text-align: right;\n",
              "    }\n",
              "</style>\n",
              "<table border=\"1\" class=\"dataframe\">\n",
              "  <thead>\n",
              "    <tr style=\"text-align: right;\">\n",
              "      <th></th>\n",
              "      <th>work_year</th>\n",
              "      <th>experience_level</th>\n",
              "      <th>employment_type</th>\n",
              "      <th>job_title</th>\n",
              "      <th>salary_in_usd</th>\n",
              "      <th>employee_residence</th>\n",
              "      <th>remote_ratio</th>\n",
              "      <th>company_location</th>\n",
              "      <th>company_size</th>\n",
              "    </tr>\n",
              "  </thead>\n",
              "  <tbody>\n",
              "    <tr>\n",
              "      <th>0</th>\n",
              "      <td>2020</td>\n",
              "      <td>MI</td>\n",
              "      <td>FT</td>\n",
              "      <td>Data Scientist</td>\n",
              "      <td>79833</td>\n",
              "      <td>DE</td>\n",
              "      <td>0</td>\n",
              "      <td>DE</td>\n",
              "      <td>L</td>\n",
              "    </tr>\n",
              "    <tr>\n",
              "      <th>1</th>\n",
              "      <td>2020</td>\n",
              "      <td>SE</td>\n",
              "      <td>FT</td>\n",
              "      <td>Machine Learning Scientist</td>\n",
              "      <td>260000</td>\n",
              "      <td>JP</td>\n",
              "      <td>0</td>\n",
              "      <td>JP</td>\n",
              "      <td>S</td>\n",
              "    </tr>\n",
              "    <tr>\n",
              "      <th>2</th>\n",
              "      <td>2020</td>\n",
              "      <td>SE</td>\n",
              "      <td>FT</td>\n",
              "      <td>Big Data Engineer</td>\n",
              "      <td>109024</td>\n",
              "      <td>GB</td>\n",
              "      <td>50</td>\n",
              "      <td>GB</td>\n",
              "      <td>M</td>\n",
              "    </tr>\n",
              "    <tr>\n",
              "      <th>3</th>\n",
              "      <td>2020</td>\n",
              "      <td>MI</td>\n",
              "      <td>FT</td>\n",
              "      <td>Product Data Analyst</td>\n",
              "      <td>20000</td>\n",
              "      <td>HN</td>\n",
              "      <td>0</td>\n",
              "      <td>HN</td>\n",
              "      <td>S</td>\n",
              "    </tr>\n",
              "    <tr>\n",
              "      <th>4</th>\n",
              "      <td>2020</td>\n",
              "      <td>SE</td>\n",
              "      <td>FT</td>\n",
              "      <td>Machine Learning Engineer</td>\n",
              "      <td>150000</td>\n",
              "      <td>US</td>\n",
              "      <td>50</td>\n",
              "      <td>US</td>\n",
              "      <td>L</td>\n",
              "    </tr>\n",
              "  </tbody>\n",
              "</table>\n",
              "</div>\n",
              "      <button class=\"colab-df-convert\" onclick=\"convertToInteractive('df-0514f51c-69cf-4317-8392-b070bd9c7d51')\"\n",
              "              title=\"Convert this dataframe to an interactive table.\"\n",
              "              style=\"display:none;\">\n",
              "        \n",
              "  <svg xmlns=\"http://www.w3.org/2000/svg\" height=\"24px\"viewBox=\"0 0 24 24\"\n",
              "       width=\"24px\">\n",
              "    <path d=\"M0 0h24v24H0V0z\" fill=\"none\"/>\n",
              "    <path d=\"M18.56 5.44l.94 2.06.94-2.06 2.06-.94-2.06-.94-.94-2.06-.94 2.06-2.06.94zm-11 1L8.5 8.5l.94-2.06 2.06-.94-2.06-.94L8.5 2.5l-.94 2.06-2.06.94zm10 10l.94 2.06.94-2.06 2.06-.94-2.06-.94-.94-2.06-.94 2.06-2.06.94z\"/><path d=\"M17.41 7.96l-1.37-1.37c-.4-.4-.92-.59-1.43-.59-.52 0-1.04.2-1.43.59L10.3 9.45l-7.72 7.72c-.78.78-.78 2.05 0 2.83L4 21.41c.39.39.9.59 1.41.59.51 0 1.02-.2 1.41-.59l7.78-7.78 2.81-2.81c.8-.78.8-2.07 0-2.86zM5.41 20L4 18.59l7.72-7.72 1.47 1.35L5.41 20z\"/>\n",
              "  </svg>\n",
              "      </button>\n",
              "      \n",
              "  <style>\n",
              "    .colab-df-container {\n",
              "      display:flex;\n",
              "      flex-wrap:wrap;\n",
              "      gap: 12px;\n",
              "    }\n",
              "\n",
              "    .colab-df-convert {\n",
              "      background-color: #E8F0FE;\n",
              "      border: none;\n",
              "      border-radius: 50%;\n",
              "      cursor: pointer;\n",
              "      display: none;\n",
              "      fill: #1967D2;\n",
              "      height: 32px;\n",
              "      padding: 0 0 0 0;\n",
              "      width: 32px;\n",
              "    }\n",
              "\n",
              "    .colab-df-convert:hover {\n",
              "      background-color: #E2EBFA;\n",
              "      box-shadow: 0px 1px 2px rgba(60, 64, 67, 0.3), 0px 1px 3px 1px rgba(60, 64, 67, 0.15);\n",
              "      fill: #174EA6;\n",
              "    }\n",
              "\n",
              "    [theme=dark] .colab-df-convert {\n",
              "      background-color: #3B4455;\n",
              "      fill: #D2E3FC;\n",
              "    }\n",
              "\n",
              "    [theme=dark] .colab-df-convert:hover {\n",
              "      background-color: #434B5C;\n",
              "      box-shadow: 0px 1px 3px 1px rgba(0, 0, 0, 0.15);\n",
              "      filter: drop-shadow(0px 1px 2px rgba(0, 0, 0, 0.3));\n",
              "      fill: #FFFFFF;\n",
              "    }\n",
              "  </style>\n",
              "\n",
              "      <script>\n",
              "        const buttonEl =\n",
              "          document.querySelector('#df-0514f51c-69cf-4317-8392-b070bd9c7d51 button.colab-df-convert');\n",
              "        buttonEl.style.display =\n",
              "          google.colab.kernel.accessAllowed ? 'block' : 'none';\n",
              "\n",
              "        async function convertToInteractive(key) {\n",
              "          const element = document.querySelector('#df-0514f51c-69cf-4317-8392-b070bd9c7d51');\n",
              "          const dataTable =\n",
              "            await google.colab.kernel.invokeFunction('convertToInteractive',\n",
              "                                                     [key], {});\n",
              "          if (!dataTable) return;\n",
              "\n",
              "          const docLinkHtml = 'Like what you see? Visit the ' +\n",
              "            '<a target=\"_blank\" href=https://colab.research.google.com/notebooks/data_table.ipynb>data table notebook</a>'\n",
              "            + ' to learn more about interactive tables.';\n",
              "          element.innerHTML = '';\n",
              "          dataTable['output_type'] = 'display_data';\n",
              "          await google.colab.output.renderOutput(dataTable, element);\n",
              "          const docLink = document.createElement('div');\n",
              "          docLink.innerHTML = docLinkHtml;\n",
              "          element.appendChild(docLink);\n",
              "        }\n",
              "      </script>\n",
              "    </div>\n",
              "  </div>\n",
              "  "
            ]
          },
          "metadata": {},
          "execution_count": 5
        }
      ]
    },
    {
      "cell_type": "markdown",
      "source": [
        "# 4) Identificar valores nulos"
      ],
      "metadata": {
        "id": "lPR7KTE_yvNo"
      }
    },
    {
      "cell_type": "code",
      "source": [
        "df.info()"
      ],
      "metadata": {
        "colab": {
          "base_uri": "https://localhost:8080/"
        },
        "id": "VuS-9znmyh4X",
        "outputId": "3d2c4634-66a1-43b7-b84e-9678f6375571"
      },
      "execution_count": 6,
      "outputs": [
        {
          "output_type": "stream",
          "name": "stdout",
          "text": [
            "<class 'pandas.core.frame.DataFrame'>\n",
            "RangeIndex: 607 entries, 0 to 606\n",
            "Data columns (total 9 columns):\n",
            " #   Column              Non-Null Count  Dtype \n",
            "---  ------              --------------  ----- \n",
            " 0   work_year           607 non-null    int64 \n",
            " 1   experience_level    607 non-null    object\n",
            " 2   employment_type     607 non-null    object\n",
            " 3   job_title           607 non-null    object\n",
            " 4   salary_in_usd       607 non-null    int64 \n",
            " 5   employee_residence  607 non-null    object\n",
            " 6   remote_ratio        607 non-null    int64 \n",
            " 7   company_location    607 non-null    object\n",
            " 8   company_size        607 non-null    object\n",
            "dtypes: int64(3), object(6)\n",
            "memory usage: 42.8+ KB\n"
          ]
        }
      ]
    },
    {
      "cell_type": "markdown",
      "source": [
        "Não há valores nulos nesta tabela."
      ],
      "metadata": {
        "id": "ETMzbOCx5S5-"
      }
    },
    {
      "cell_type": "markdown",
      "source": [
        "### Ano de Trabalho"
      ],
      "metadata": {
        "id": "ROqJhltN0M59"
      }
    },
    {
      "cell_type": "code",
      "source": [
        "df['work_year'].value_counts()"
      ],
      "metadata": {
        "id": "yDywV9j80RTU",
        "colab": {
          "base_uri": "https://localhost:8080/"
        },
        "outputId": "d329e040-b895-4f4a-88a2-81e2d0314597"
      },
      "execution_count": 8,
      "outputs": [
        {
          "output_type": "execute_result",
          "data": {
            "text/plain": [
              "2022    318\n",
              "2021    217\n",
              "2020     72\n",
              "Name: work_year, dtype: int64"
            ]
          },
          "metadata": {},
          "execution_count": 8
        }
      ]
    },
    {
      "cell_type": "markdown",
      "source": [
        "### Experiência"
      ],
      "metadata": {
        "id": "gTjm67PgAUQl"
      }
    },
    {
      "cell_type": "markdown",
      "source": [
        "Primeiramente, será analisado o nível de experiência dos empregados. Há quatro categorias presentes na tabela:\n",
        "\n",
        "EN = Entry-level = Junior\n",
        "\n",
        "MI = Mid-level = Pleno\n",
        "\n",
        "SE = Senior-level = Senior\n",
        "\n",
        "EX = Execute-level = Diretor"
      ],
      "metadata": {
        "id": "tVO-nK44ESQY"
      }
    },
    {
      "cell_type": "code",
      "source": [
        "df['experience_level'].value_counts()"
      ],
      "metadata": {
        "colab": {
          "base_uri": "https://localhost:8080/"
        },
        "id": "NsMd4Cyk35Bw",
        "outputId": "0ad9d402-7788-4ddd-df6c-c338074e5cd3"
      },
      "execution_count": 9,
      "outputs": [
        {
          "output_type": "execute_result",
          "data": {
            "text/plain": [
              "SE    280\n",
              "MI    213\n",
              "EN     88\n",
              "EX     26\n",
              "Name: experience_level, dtype: int64"
            ]
          },
          "metadata": {},
          "execution_count": 9
        }
      ]
    },
    {
      "cell_type": "markdown",
      "source": [
        "Pode-se notar que maioria dos empregados são de nível senior, sendo 280 de 607 (46.13%)\n",
        "\n",
        "Em segundo, estão os de nível pleno, sendo 213 de 607 (35,09%)\n",
        "\n",
        "Em terceiro, estão os de nível junior, sendo 88 de 607 (14,50%)\n",
        "\n",
        "Em quarto, estão os de nível diretor, sendo 26 de 607 (4,28%)"
      ],
      "metadata": {
        "id": "9vZKN2uQHchg"
      }
    },
    {
      "cell_type": "markdown",
      "source": [
        "### Tipo de Emprego\n",
        "Os 4 tipos de empregos presentes na tabela são:\n",
        "\n",
        "PT = part-time = meio período\n",
        "\n",
        "FT = full-time = tempo integral\n",
        "\n",
        "CT = contract = contrato\n",
        "\n",
        "FL = freelance = freelance"
      ],
      "metadata": {
        "id": "vHpxflVhiiQI"
      }
    },
    {
      "cell_type": "code",
      "source": [
        "df['employment_type'].value_counts()"
      ],
      "metadata": {
        "colab": {
          "base_uri": "https://localhost:8080/"
        },
        "id": "4czH8uaGjXr2",
        "outputId": "2a5cb035-2246-4993-d426-ede2554a2e13"
      },
      "execution_count": 10,
      "outputs": [
        {
          "output_type": "execute_result",
          "data": {
            "text/plain": [
              "FT    588\n",
              "PT     10\n",
              "CT      5\n",
              "FL      4\n",
              "Name: employment_type, dtype: int64"
            ]
          },
          "metadata": {},
          "execution_count": 10
        }
      ]
    },
    {
      "cell_type": "markdown",
      "source": [
        "Nota-se que a grande maioria dos empregados trabalham em tempo integral."
      ],
      "metadata": {
        "id": "417yDAkykJ_5"
      }
    },
    {
      "cell_type": "markdown",
      "source": [
        "### Cargos"
      ],
      "metadata": {
        "id": "8sJZlk7gIvNO"
      }
    },
    {
      "cell_type": "markdown",
      "source": [
        "Neste quesito, será analisada a variedade de cargos na área de Ciência de Dados e quais são os mais frequentes."
      ],
      "metadata": {
        "id": "zKjahV8HJxUo"
      }
    },
    {
      "cell_type": "code",
      "source": [
        "# Descobrir quantos empregos diferentes estão presentes na tabela.\n",
        "df['job_title'].value_counts().size"
      ],
      "metadata": {
        "colab": {
          "base_uri": "https://localhost:8080/"
        },
        "id": "xep4Rt9NKp9R",
        "outputId": "3825ba94-fc9e-49a1-e381-c86b3cc6f6c9"
      },
      "execution_count": 11,
      "outputs": [
        {
          "output_type": "execute_result",
          "data": {
            "text/plain": [
              "50"
            ]
          },
          "metadata": {},
          "execution_count": 11
        }
      ]
    },
    {
      "cell_type": "code",
      "source": [
        "# Quais são os 10 cargos que mais aparecem na tabela?\n",
        "df['job_title'].value_counts()[:10]"
      ],
      "metadata": {
        "colab": {
          "base_uri": "https://localhost:8080/"
        },
        "id": "RhW46XKAQVxo",
        "outputId": "f011f362-f3db-4a50-c150-9a14711e32c7"
      },
      "execution_count": 12,
      "outputs": [
        {
          "output_type": "execute_result",
          "data": {
            "text/plain": [
              "Data Scientist                143\n",
              "Data Engineer                 132\n",
              "Data Analyst                   97\n",
              "Machine Learning Engineer      41\n",
              "Research Scientist             16\n",
              "Data Science Manager           12\n",
              "Data Architect                 11\n",
              "Big Data Engineer               8\n",
              "Machine Learning Scientist      8\n",
              "Principal Data Scientist        7\n",
              "Name: job_title, dtype: int64"
            ]
          },
          "metadata": {},
          "execution_count": 12
        }
      ]
    },
    {
      "cell_type": "markdown",
      "source": [
        "O cargos mais comuns na área de dados são: Cientista de dados, Engenheiro de dados e Analista de dados"
      ],
      "metadata": {
        "id": "pRWwI2RJS_cx"
      }
    },
    {
      "cell_type": "markdown",
      "source": [
        "### Sálarios (valores convertidos para USD)"
      ],
      "metadata": {
        "id": "jXuhkHtz6qCS"
      }
    },
    {
      "cell_type": "code",
      "source": [
        "df['salary_in_usd'].value_counts().head()"
      ],
      "metadata": {
        "colab": {
          "base_uri": "https://localhost:8080/"
        },
        "id": "a-rDvHPhNijM",
        "outputId": "53d95d0d-b646-4606-ddde-60cfbd46ee5e"
      },
      "execution_count": 13,
      "outputs": [
        {
          "output_type": "execute_result",
          "data": {
            "text/plain": [
              "100000    15\n",
              "120000    12\n",
              "150000    12\n",
              "200000    10\n",
              "135000     9\n",
              "Name: salary_in_usd, dtype: int64"
            ]
          },
          "metadata": {},
          "execution_count": 13
        }
      ]
    },
    {
      "cell_type": "code",
      "source": [
        "# Qual o maior valor pago?\n",
        "df['salary_in_usd'].max()"
      ],
      "metadata": {
        "colab": {
          "base_uri": "https://localhost:8080/"
        },
        "id": "gEv7RDAN_b4u",
        "outputId": "2b042b3b-7f54-4594-9e9f-5faa30f82fe1"
      },
      "execution_count": 14,
      "outputs": [
        {
          "output_type": "execute_result",
          "data": {
            "text/plain": [
              "600000"
            ]
          },
          "metadata": {},
          "execution_count": 14
        }
      ]
    },
    {
      "cell_type": "markdown",
      "source": [
        "### Localização dos Empregados e Localização das Empresas"
      ],
      "metadata": {
        "id": "zARIJ6sulA8C"
      }
    },
    {
      "cell_type": "markdown",
      "source": [
        "Neste quesito, será explorado de onde vem os empregados e onde estão localizadas as empresas"
      ],
      "metadata": {
        "id": "GRYTVCiLlRg4"
      }
    },
    {
      "cell_type": "code",
      "source": [
        "df['employee_residence'].value_counts()[:10]"
      ],
      "metadata": {
        "colab": {
          "base_uri": "https://localhost:8080/"
        },
        "id": "jrgdu8n8lc0u",
        "outputId": "fe6d0c2d-e87f-4cc3-80d7-e80bf7f05307"
      },
      "execution_count": null,
      "outputs": [
        {
          "output_type": "execute_result",
          "data": {
            "text/plain": [
              "US    332\n",
              "GB     44\n",
              "IN     30\n",
              "CA     29\n",
              "DE     25\n",
              "FR     18\n",
              "ES     15\n",
              "GR     13\n",
              "JP      7\n",
              "PT      6\n",
              "Name: employee_residence, dtype: int64"
            ]
          },
          "metadata": {},
          "execution_count": 21
        }
      ]
    },
    {
      "cell_type": "code",
      "source": [
        "df['company_location'].value_counts()[:10]"
      ],
      "metadata": {
        "colab": {
          "base_uri": "https://localhost:8080/"
        },
        "id": "_7bwlrXj5ifQ",
        "outputId": "e7867354-63c3-4dfc-9460-ed2b0634bdaf"
      },
      "execution_count": null,
      "outputs": [
        {
          "output_type": "execute_result",
          "data": {
            "text/plain": [
              "US    355\n",
              "GB     47\n",
              "CA     30\n",
              "DE     28\n",
              "IN     24\n",
              "FR     15\n",
              "ES     14\n",
              "GR     11\n",
              "JP      6\n",
              "NL      4\n",
              "Name: company_location, dtype: int64"
            ]
          },
          "metadata": {},
          "execution_count": 24
        }
      ]
    },
    {
      "cell_type": "markdown",
      "source": [
        "### Tamanho da Empresa\n",
        "L = large = grande\n",
        "\n",
        "M = medium = médio\n",
        "\n",
        "S = small = pequeno"
      ],
      "metadata": {
        "id": "ZeZy0uQRxKTN"
      }
    },
    {
      "cell_type": "code",
      "source": [
        "df['company_size'].value_counts()"
      ],
      "metadata": {
        "id": "MXNVIycmxgBu",
        "colab": {
          "base_uri": "https://localhost:8080/"
        },
        "outputId": "b9f136b2-1370-45a5-8611-e8f5dda7bb8a"
      },
      "execution_count": null,
      "outputs": [
        {
          "output_type": "execute_result",
          "data": {
            "text/plain": [
              "M    326\n",
              "L    198\n",
              "S     83\n",
              "Name: company_size, dtype: int64"
            ]
          },
          "metadata": {},
          "execution_count": 25
        }
      ]
    },
    {
      "cell_type": "markdown",
      "source": [
        "Nota-se facilmente que a maioria das empresas são de médio porte, seguida pelas empresas de grande porte."
      ],
      "metadata": {
        "id": "OGSVh6BEyGfG"
      }
    },
    {
      "cell_type": "markdown",
      "source": [
        "### Trabalho Remoto\n",
        "No quesito remote_ratio, existem 3 valores: 0, 50 e 100.\n",
        "\n",
        "0 = sem trabalho remoto\n",
        "\n",
        "50 = parcialmente remoto\n",
        "\n",
        "100 = totalmente remoto"
      ],
      "metadata": {
        "id": "cKsc6taX2952"
      }
    },
    {
      "cell_type": "code",
      "source": [
        "df['remote_ratio'].value_counts()"
      ],
      "metadata": {
        "colab": {
          "base_uri": "https://localhost:8080/"
        },
        "id": "adAU8Nsp3lha",
        "outputId": "f1d69bb1-aed9-4258-e259-b2a878e9bc9d"
      },
      "execution_count": null,
      "outputs": [
        {
          "output_type": "execute_result",
          "data": {
            "text/plain": [
              "100    381\n",
              "0      127\n",
              "50      99\n",
              "Name: remote_ratio, dtype: int64"
            ]
          },
          "metadata": {},
          "execution_count": 26
        }
      ]
    },
    {
      "cell_type": "markdown",
      "source": [
        "# Visualização\n",
        "A partir da contagem de valores, é possível questionar pontos interessantes vistos na tabela:"
      ],
      "metadata": {
        "id": "D0KFt-2jCU0H"
      }
    },
    {
      "cell_type": "code",
      "source": [
        "# Relação entre nível de experiência x salário convertido em USD\n",
        "sns.set_palette('pastel')\n",
        "plt.figure(figsize=(10,5))\n",
        "sns.barplot(x = 'experience_level', y = 'salary_in_usd', data = df)\n",
        "plt.xticks(rotation=90)\n",
        "plt.grid()\n",
        "plt.show()"
      ],
      "metadata": {
        "colab": {
          "base_uri": "https://localhost:8080/",
          "height": 338
        },
        "id": "0Cb0_YqkIyJB",
        "outputId": "c3f48cce-c377-478a-b2e9-e5d737bc5bd1"
      },
      "execution_count": null,
      "outputs": [
        {
          "output_type": "display_data",
          "data": {
            "text/plain": [
              "<Figure size 720x360 with 1 Axes>"
            ],
            "image/png": "[encoded data removed]"
          },
          "metadata": {
            "needs_background": "light"
          }
        }
      ]
    },
    {
      "cell_type": "markdown",
      "source": [
        "* A experiência afeta diretamente no salário\n",
        "* O nível EX (Diretor) possui os maiores salários, enquanto o nível EN (Junior) tem os menores."
      ],
      "metadata": {
        "id": "YcwLBooSIIL-"
      }
    },
    {
      "cell_type": "code",
      "source": [
        "# Relação entre trabalho remoto x tamanho da empresa\n",
        "sns.set_palette('pastel')\n",
        "plt.figure(figsize=(9,5))\n",
        "sns.countplot(x = 'remote_ratio', hue = 'company_size', data = df)\n",
        "plt.xticks(rotation=90)\n",
        "plt.grid()\n",
        "plt.show()"
      ],
      "metadata": {
        "colab": {
          "base_uri": "https://localhost:8080/",
          "height": 343
        },
        "id": "6DiD_wt1IhY9",
        "outputId": "2df080b8-c5cc-41c0-de99-85f4f945eaad"
      },
      "execution_count": null,
      "outputs": [
        {
          "output_type": "display_data",
          "data": {
            "text/plain": [
              "<Figure size 648x360 with 1 Axes>"
            ],
            "image/png": "[encoded data removed]"
          },
          "metadata": {
            "needs_background": "light"
          }
        }
      ]
    },
    {
      "cell_type": "markdown",
      "source": [
        "* Empresas de médio porte possuí o maior maior número de trabalhadores 100% remotos, seguida das empresas de grande porte."
      ],
      "metadata": {
        "id": "vCAadfq3HrvD"
      }
    },
    {
      "cell_type": "code",
      "source": [
        "# Relação entre nível de experiência x trabalho remoto\n",
        "sns.set_palette('pastel')\n",
        "plt.figure(figsize=(12,5))\n",
        "sns.countplot(x = 'experience_level', hue = 'remote_ratio', data = df)\n",
        "plt.xticks(rotation=90)\n",
        "plt.grid()\n",
        "plt.show()"
      ],
      "metadata": {
        "colab": {
          "base_uri": "https://localhost:8080/",
          "height": 338
        },
        "id": "xgHAAYQwJani",
        "outputId": "dcf37d0e-0f6c-4c17-ea34-46300ae42e8c"
      },
      "execution_count": null,
      "outputs": [
        {
          "output_type": "display_data",
          "data": {
            "text/plain": [
              "<Figure size 864x360 with 1 Axes>"
            ],
            "image/png": "[encoded data removed]"
          },
          "metadata": {
            "needs_background": "light"
          }
        }
      ]
    },
    {
      "cell_type": "markdown",
      "source": [
        "* Existe uma grande quantidade de empregados nível pleno e sênior trabalhando 100% remoto.\n"
      ],
      "metadata": {
        "id": "slILhdrgMuh-"
      }
    },
    {
      "cell_type": "code",
      "source": [
        "# Relação tamanho da empresa x salário convertido em USD\n",
        "sns.set_palette('pastel')\n",
        "plt.figure(figsize=(12,5))\n",
        "sns.barplot(x = 'company_size', y = 'salary_in_usd', data = df)\n",
        "plt.xticks(rotation=90)\n",
        "plt.grid()\n",
        "plt.show()"
      ],
      "metadata": {
        "colab": {
          "base_uri": "https://localhost:8080/",
          "height": 333
        },
        "id": "JvlqKKJ6Ju2j",
        "outputId": "d494a459-4261-4edb-f359-a19e36a2d80d"
      },
      "execution_count": null,
      "outputs": [
        {
          "output_type": "display_data",
          "data": {
            "text/plain": [
              "<Figure size 864x360 with 1 Axes>"
            ],
            "image/png": "[encoded data removed]"
          },
          "metadata": {
            "needs_background": "light"
          }
        }
      ]
    },
    {
      "cell_type": "markdown",
      "source": [
        "* Empresas de grande porte tendem a pagar mais, seguido de empresas de médio porte."
      ],
      "metadata": {
        "id": "b1lWLkHHNPcD"
      }
    },
    {
      "cell_type": "code",
      "source": [
        "# Relação entre tamanho da empresa x salário x experiência\n",
        "sns.set_palette('pastel')\n",
        "plt.figure(figsize=(12,5))\n",
        "sns.barplot(x = 'company_size', y = 'salary_in_usd', hue = 'experience_level', data = df)\n",
        "plt.xticks(rotation=90)\n",
        "plt.grid()\n",
        "plt.show()"
      ],
      "metadata": {
        "colab": {
          "base_uri": "https://localhost:8080/",
          "height": 333
        },
        "id": "XZDqrevbQENi",
        "outputId": "5e0c4f90-d672-4f09-867b-a9530992caa1"
      },
      "execution_count": null,
      "outputs": [
        {
          "output_type": "display_data",
          "data": {
            "text/plain": [
              "<Figure size 864x360 with 1 Axes>"
            ],
            "image/png": "[encoded data removed]"
          },
          "metadata": {
            "needs_background": "light"
          }
        }
      ]
    },
    {
      "cell_type": "code",
      "source": [
        "# Relação cargo x salário convertido em USD\n",
        "sns.set_palette('pastel')\n",
        "plt.figure(figsize=(18,5))\n",
        "sns.barplot(x = 'job_title', y = 'salary_in_usd', data = df)\n",
        "plt.xticks(rotation=90)\n",
        "plt.grid()\n",
        "plt.show()"
      ],
      "metadata": {
        "colab": {
          "base_uri": "https://localhost:8080/",
          "height": 533
        },
        "id": "kYxUUMMtJBxw",
        "outputId": "d9e9e6d4-c306-4d48-cfb2-7ecade573071"
      },
      "execution_count": 91,
      "outputs": [
        {
          "output_type": "display_data",
          "data": {
            "text/plain": [
              "<Figure size 1296x360 with 1 Axes>"
            ],
            "image/png": "[encoded data removed]"
          },
          "metadata": {
            "needs_background": "light"
          }
        }
      ]
    },
    {
      "cell_type": "markdown",
      "source": [
        "* O cargo de Principal Data Engineer tem o maior salário registrado (600000)."
      ],
      "metadata": {
        "id": "y3V-91fPI-GA"
      }
    }
  ]
}